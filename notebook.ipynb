{
 "cells": [
  {
   "cell_type": "markdown",
   "metadata": {},
   "source": [
    "# Fractional Brownian Motion\n",
    "Python implementation of Fractional Brownian Motion (FBM) simulation."
   ]
  },
  {
   "cell_type": "markdown",
   "metadata": {},
   "source": [
    "Import `numpy` for numerical computation and `matplotlib` for plotting"
   ]
  },
  {
   "cell_type": "code",
   "execution_count": 10,
   "metadata": {},
   "outputs": [],
   "source": [
    "import numpy as np\n",
    "import matplotlib.pyplot as plt"
   ]
  },
  {
   "cell_type": "markdown",
   "metadata": {},
   "source": [
    "Define function `fbm` to simulate FBM with Hurst parameter `H` and length of time `T`"
   ]
  },
  {
   "cell_type": "code",
   "execution_count": 11,
   "metadata": {},
   "outputs": [],
   "source": [
    "def simulate_fbm(T, N, H):\n",
    "    '''\n",
    "    Simulates fractional brownian motion using Cholseky's method\n",
    "    \n",
    "    args:\n",
    "        T:      length of time (in years)\n",
    "        N:      number of time steps within timeframe\n",
    "        H:      Hurst parameter\n",
    "    '''\n",
    "    gamma = lambda k,H: 0.5*(np.abs(k-1)**(2*H) - 2*np.abs(k)**(2*H) + np.abs(k+1)**(2*H))  \n",
    "    \n",
    "    L = np.zeros((N,N))\n",
    "    X = np.zeros(N)\n",
    "    V = np.random.standard_normal(size=N)\n",
    "\n",
    "    L[0,0] = 1.0\n",
    "    X[0] = V[0]\n",
    "    \n",
    "    L[1,0] = gamma(1,H)\n",
    "    L[1,1] = np.sqrt(1 - (L[1,0]**2))\n",
    "    X[1] = np.sum(L[1,0:2] @ V[0:2])\n",
    "    \n",
    "    for i in range(2,N):\n",
    "        L[i,0] = gamma(i,H)\n",
    "        \n",
    "        for j in range(1, i):         \n",
    "            L[i,j] = (1/L[j,j])*(gamma(i-j,H) - (L[i,0:j] @ L[j,0:j]))\n",
    "\n",
    "        L[i,i] = np.sqrt(1 - np.sum((L[i,0:i]**2))) \n",
    "        X[i] = L[i,0:i+1] @ V[0:i+1]\n",
    "\n",
    "    fBm = np.cumsum(X)*(N**(-H))\n",
    "    return (T**H)*(fBm)"
   ]
  },
  {
   "cell_type": "markdown",
   "metadata": {},
   "source": [
    "Simulate 10 versions of a random walk with `N` steps and `H=0.5` (Brownian motion) and plot the result / save to file"
   ]
  },
  {
   "cell_type": "code",
   "execution_count": 12,
   "metadata": {},
   "outputs": [
    {
     "data": {
      "text/plain": [
       "<Figure size 640x480 with 0 Axes>"
      ]
     },
     "metadata": {},
     "output_type": "display_data"
    }
   ],
   "source": [
    "T = 1\n",
    "N = 1200\n",
    "H = 0.5\n",
    "paths = 10\n",
    "\n",
    "for i in range(paths):\n",
    "    fBm = simulate_fbm(T, N, H)\n",
    "    plt.title('Random Walk with H = {}'.format(H))\n",
    "    plt.plot(fBm)\n",
    "    plt.savefig('./output/figures/random_walk_{}.png'.format(i))\n",
    "    plt.clf()"
   ]
  },
  {
   "cell_type": "markdown",
   "metadata": {},
   "source": [
    "Simulate 10 versions of FBM where there are `N` steps and `H=0.3` (mean reversion) and plot the result / save to file"
   ]
  },
  {
   "cell_type": "code",
   "execution_count": 13,
   "metadata": {},
   "outputs": [
    {
     "data": {
      "text/plain": [
       "<Figure size 640x480 with 0 Axes>"
      ]
     },
     "metadata": {},
     "output_type": "display_data"
    }
   ],
   "source": [
    "H = 0.3\n",
    "\n",
    "for i in range(paths):\n",
    "    fBm = simulate_fbm(T, N, H)\n",
    "    plt.title('Mean Reversion with H = {}'.format(H))\n",
    "    plt.plot(fBm)\n",
    "    plt.savefig('./output/figures/mean_reversion_{}.png'.format(i))\n",
    "    plt.clf()"
   ]
  },
  {
   "cell_type": "markdown",
   "metadata": {},
   "source": [
    "Simulate 10 versions of FBM where there are `N` steps and `H=0.3` (trending momentum) and plot the result / save to file"
   ]
  },
  {
   "cell_type": "code",
   "execution_count": 14,
   "metadata": {},
   "outputs": [
    {
     "data": {
      "text/plain": [
       "<Figure size 640x480 with 0 Axes>"
      ]
     },
     "metadata": {},
     "output_type": "display_data"
    }
   ],
   "source": [
    "H = 0.7\n",
    "\n",
    "for i in range(paths):\n",
    "    fBm = simulate_fbm(T, N, H)\n",
    "    plt.title('Momentum with H = {}'.format(H))\n",
    "    plt.plot(fBm)\n",
    "    plt.savefig('./output/figures/momentum_{}.png'.format(i))\n",
    "    plt.clf()"
   ]
  }
 ],
 "metadata": {
  "kernelspec": {
   "display_name": ".venv",
   "language": "python",
   "name": "python3"
  },
  "language_info": {
   "codemirror_mode": {
    "name": "ipython",
    "version": 3
   },
   "file_extension": ".py",
   "mimetype": "text/x-python",
   "name": "python",
   "nbconvert_exporter": "python",
   "pygments_lexer": "ipython3",
   "version": "3.11.7"
  }
 },
 "nbformat": 4,
 "nbformat_minor": 2
}
